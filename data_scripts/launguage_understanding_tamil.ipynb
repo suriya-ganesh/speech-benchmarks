{
 "cells": [
  {
   "metadata": {},
   "cell_type": "markdown",
   "source": [
    "### Tamil language understanding of LLMs\n",
    "\n",
    "LLMs have language ability but how well they understand this is a question\n",
    "\n",
    "One way to test this is to create a dataset like MMLU\n",
    "This script generates base questions for that\n",
    "\n",
    "Broadly we would have to create a dataset of questions and answers in Tamil on a variety of topics keeping in mind that this is for high school students.\n",
    "\n",
    "eg. \n",
    "literature, \n",
    "history, \n",
    "geography, \n",
    "sports, \n",
    "Tamil mathematics, \n",
    "Tamil physics, \n",
    "Tamil chemistry, \n",
    "Tamil biology, \n",
    "Tamil zoology, \n",
    "Tamil botany, \n",
    "Tamil geology,\n",
    "general knowledge,"
   ],
   "id": "ed8fb97c80ac6920"
  },
  {
   "metadata": {},
   "cell_type": "markdown",
   "source": [
    "### Strategy 1\n",
    "Get an LLM to generate questions. This could work for non-academic like questioons\n",
    "\n",
    "### Strategy 2\n",
    "Translate already known MCQ questions to Tamil. This would work well for academic questions\n"
   ],
   "id": "b4b890dea3a40787"
  },
  {
   "metadata": {},
   "cell_type": "code",
   "outputs": [],
   "execution_count": null,
   "source": "",
   "id": "fed23a2b043c714b"
  },
  {
   "metadata": {},
   "cell_type": "code",
   "outputs": [],
   "execution_count": null,
   "source": "",
   "id": "cc8c7571efcd43f1"
  },
  {
   "metadata": {},
   "cell_type": "code",
   "outputs": [],
   "execution_count": null,
   "source": "",
   "id": "1085b11b68f569b2"
  }
 ],
 "metadata": {
  "kernelspec": {
   "display_name": "Python 3",
   "language": "python",
   "name": "python3"
  },
  "language_info": {
   "codemirror_mode": {
    "name": "ipython",
    "version": 2
   },
   "file_extension": ".py",
   "mimetype": "text/x-python",
   "name": "python",
   "nbconvert_exporter": "python",
   "pygments_lexer": "ipython2",
   "version": "2.7.6"
  }
 },
 "nbformat": 4,
 "nbformat_minor": 5
}
