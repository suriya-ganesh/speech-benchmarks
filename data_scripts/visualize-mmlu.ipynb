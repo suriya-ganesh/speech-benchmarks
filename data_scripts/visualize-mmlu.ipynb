{
 "cells": [
  {
   "cell_type": "code",
   "id": "initial_id",
   "metadata": {
    "collapsed": true,
    "ExecuteTime": {
     "end_time": "2024-06-17T19:54:10.652787Z",
     "start_time": "2024-06-17T19:54:10.640872Z"
    }
   },
   "source": [
    "import pandas as pd\n",
    "\n",
    "df = pd.read_csv('../dataset/mmlu/test/abstract_algebra_test.csv')"
   ],
   "outputs": [],
   "execution_count": 2
  },
  {
   "metadata": {
    "ExecuteTime": {
     "end_time": "2024-06-17T19:54:11.689435Z",
     "start_time": "2024-06-17T19:54:11.674757Z"
    }
   },
   "cell_type": "code",
   "source": "df.head()",
   "id": "399a58170a48ce02",
   "outputs": [
    {
     "data": {
      "text/plain": [
       "  Find the degree for the given field extension Q(sqrt(2), sqrt(3), sqrt(18)) over Q.  \\\n",
       "0  Let p = (1, 2, 5, 4)(2, 3) in S_5 . Find the i...                                    \n",
       "1  Find all zeros in the indicated finite field o...                                    \n",
       "2  Statement 1 | A factor group of a non-Abelian ...                                    \n",
       "3  Find the product of the given polynomials in t...                                    \n",
       "4  Statement 1 | If a group has an element of ord...                                    \n",
       "\n",
       "            0              4            2            6  B  \n",
       "0           8              2           24          120  C  \n",
       "1           0              1          0,1          0,4  D  \n",
       "2  True, True   False, False  True, False  False, True  B  \n",
       "3    2x^2 + 5  6x^2 + 4x + 6            0      x^2 + 1  B  \n",
       "4  True, True   False, False  True, False  False, True  A  "
      ],
      "text/html": [
       "<div>\n",
       "<style scoped>\n",
       "    .dataframe tbody tr th:only-of-type {\n",
       "        vertical-align: middle;\n",
       "    }\n",
       "\n",
       "    .dataframe tbody tr th {\n",
       "        vertical-align: top;\n",
       "    }\n",
       "\n",
       "    .dataframe thead th {\n",
       "        text-align: right;\n",
       "    }\n",
       "</style>\n",
       "<table border=\"1\" class=\"dataframe\">\n",
       "  <thead>\n",
       "    <tr style=\"text-align: right;\">\n",
       "      <th></th>\n",
       "      <th>Find the degree for the given field extension Q(sqrt(2), sqrt(3), sqrt(18)) over Q.</th>\n",
       "      <th>0</th>\n",
       "      <th>4</th>\n",
       "      <th>2</th>\n",
       "      <th>6</th>\n",
       "      <th>B</th>\n",
       "    </tr>\n",
       "  </thead>\n",
       "  <tbody>\n",
       "    <tr>\n",
       "      <th>0</th>\n",
       "      <td>Let p = (1, 2, 5, 4)(2, 3) in S_5 . Find the i...</td>\n",
       "      <td>8</td>\n",
       "      <td>2</td>\n",
       "      <td>24</td>\n",
       "      <td>120</td>\n",
       "      <td>C</td>\n",
       "    </tr>\n",
       "    <tr>\n",
       "      <th>1</th>\n",
       "      <td>Find all zeros in the indicated finite field o...</td>\n",
       "      <td>0</td>\n",
       "      <td>1</td>\n",
       "      <td>0,1</td>\n",
       "      <td>0,4</td>\n",
       "      <td>D</td>\n",
       "    </tr>\n",
       "    <tr>\n",
       "      <th>2</th>\n",
       "      <td>Statement 1 | A factor group of a non-Abelian ...</td>\n",
       "      <td>True, True</td>\n",
       "      <td>False, False</td>\n",
       "      <td>True, False</td>\n",
       "      <td>False, True</td>\n",
       "      <td>B</td>\n",
       "    </tr>\n",
       "    <tr>\n",
       "      <th>3</th>\n",
       "      <td>Find the product of the given polynomials in t...</td>\n",
       "      <td>2x^2 + 5</td>\n",
       "      <td>6x^2 + 4x + 6</td>\n",
       "      <td>0</td>\n",
       "      <td>x^2 + 1</td>\n",
       "      <td>B</td>\n",
       "    </tr>\n",
       "    <tr>\n",
       "      <th>4</th>\n",
       "      <td>Statement 1 | If a group has an element of ord...</td>\n",
       "      <td>True, True</td>\n",
       "      <td>False, False</td>\n",
       "      <td>True, False</td>\n",
       "      <td>False, True</td>\n",
       "      <td>A</td>\n",
       "    </tr>\n",
       "  </tbody>\n",
       "</table>\n",
       "</div>"
      ]
     },
     "execution_count": 3,
     "metadata": {},
     "output_type": "execute_result"
    }
   ],
   "execution_count": 3
  },
  {
   "metadata": {
    "ExecuteTime": {
     "end_time": "2024-06-17T19:55:16.876410Z",
     "start_time": "2024-06-17T19:55:16.871020Z"
    }
   },
   "cell_type": "code",
   "source": "df_abstract_algebra = pd.read_csv('../dataset/mmlu/test/abstract_algebra_test.csv')",
   "id": "6b1eb6a7ab4895b2",
   "outputs": [],
   "execution_count": 5
  },
  {
   "metadata": {
    "ExecuteTime": {
     "end_time": "2024-06-17T19:55:54.206765Z",
     "start_time": "2024-06-17T19:55:54.195869Z"
    }
   },
   "cell_type": "code",
   "source": "df_abstract_algebra.head()",
   "id": "e4ecfc92af470716",
   "outputs": [
    {
     "data": {
      "text/plain": [
       "  Find the degree for the given field extension Q(sqrt(2), sqrt(3), sqrt(18)) over Q.  \\\n",
       "0  Let p = (1, 2, 5, 4)(2, 3) in S_5 . Find the i...                                    \n",
       "1  Find all zeros in the indicated finite field o...                                    \n",
       "2  Statement 1 | A factor group of a non-Abelian ...                                    \n",
       "3  Find the product of the given polynomials in t...                                    \n",
       "4  Statement 1 | If a group has an element of ord...                                    \n",
       "\n",
       "            0              4            2            6  B  \n",
       "0           8              2           24          120  C  \n",
       "1           0              1          0,1          0,4  D  \n",
       "2  True, True   False, False  True, False  False, True  B  \n",
       "3    2x^2 + 5  6x^2 + 4x + 6            0      x^2 + 1  B  \n",
       "4  True, True   False, False  True, False  False, True  A  "
      ],
      "text/html": [
       "<div>\n",
       "<style scoped>\n",
       "    .dataframe tbody tr th:only-of-type {\n",
       "        vertical-align: middle;\n",
       "    }\n",
       "\n",
       "    .dataframe tbody tr th {\n",
       "        vertical-align: top;\n",
       "    }\n",
       "\n",
       "    .dataframe thead th {\n",
       "        text-align: right;\n",
       "    }\n",
       "</style>\n",
       "<table border=\"1\" class=\"dataframe\">\n",
       "  <thead>\n",
       "    <tr style=\"text-align: right;\">\n",
       "      <th></th>\n",
       "      <th>Find the degree for the given field extension Q(sqrt(2), sqrt(3), sqrt(18)) over Q.</th>\n",
       "      <th>0</th>\n",
       "      <th>4</th>\n",
       "      <th>2</th>\n",
       "      <th>6</th>\n",
       "      <th>B</th>\n",
       "    </tr>\n",
       "  </thead>\n",
       "  <tbody>\n",
       "    <tr>\n",
       "      <th>0</th>\n",
       "      <td>Let p = (1, 2, 5, 4)(2, 3) in S_5 . Find the i...</td>\n",
       "      <td>8</td>\n",
       "      <td>2</td>\n",
       "      <td>24</td>\n",
       "      <td>120</td>\n",
       "      <td>C</td>\n",
       "    </tr>\n",
       "    <tr>\n",
       "      <th>1</th>\n",
       "      <td>Find all zeros in the indicated finite field o...</td>\n",
       "      <td>0</td>\n",
       "      <td>1</td>\n",
       "      <td>0,1</td>\n",
       "      <td>0,4</td>\n",
       "      <td>D</td>\n",
       "    </tr>\n",
       "    <tr>\n",
       "      <th>2</th>\n",
       "      <td>Statement 1 | A factor group of a non-Abelian ...</td>\n",
       "      <td>True, True</td>\n",
       "      <td>False, False</td>\n",
       "      <td>True, False</td>\n",
       "      <td>False, True</td>\n",
       "      <td>B</td>\n",
       "    </tr>\n",
       "    <tr>\n",
       "      <th>3</th>\n",
       "      <td>Find the product of the given polynomials in t...</td>\n",
       "      <td>2x^2 + 5</td>\n",
       "      <td>6x^2 + 4x + 6</td>\n",
       "      <td>0</td>\n",
       "      <td>x^2 + 1</td>\n",
       "      <td>B</td>\n",
       "    </tr>\n",
       "    <tr>\n",
       "      <th>4</th>\n",
       "      <td>Statement 1 | If a group has an element of ord...</td>\n",
       "      <td>True, True</td>\n",
       "      <td>False, False</td>\n",
       "      <td>True, False</td>\n",
       "      <td>False, True</td>\n",
       "      <td>A</td>\n",
       "    </tr>\n",
       "  </tbody>\n",
       "</table>\n",
       "</div>"
      ]
     },
     "execution_count": 8,
     "metadata": {},
     "output_type": "execute_result"
    }
   ],
   "execution_count": 8
  },
  {
   "metadata": {
    "ExecuteTime": {
     "end_time": "2024-06-17T19:57:06.182656Z",
     "start_time": "2024-06-17T19:57:06.178033Z"
    }
   },
   "cell_type": "code",
   "source": "df_abstract_algebra.iloc[:,0][2]",
   "id": "ee999c552a7f83d1",
   "outputs": [
    {
     "data": {
      "text/plain": [
       "'Statement 1 | A factor group of a non-Abelian group is non-Abelian. Statement 2 | If K is a normal subgroup of H and H is a normal subgroup of G, then K is a normal subgroup of G.'"
      ]
     },
     "execution_count": 12,
     "metadata": {},
     "output_type": "execute_result"
    }
   ],
   "execution_count": 12
  },
  {
   "metadata": {
    "ExecuteTime": {
     "end_time": "2024-06-17T20:01:44.137997Z",
     "start_time": "2024-06-17T20:01:44.131810Z"
    }
   },
   "cell_type": "code",
   "source": "df_abstract_algebra = pd.read_csv('../dataset/mmlu/test/elementary_mathematics_test.csv')",
   "id": "fb9c6916f08f9bd2",
   "outputs": [],
   "execution_count": 13
  },
  {
   "metadata": {
    "ExecuteTime": {
     "end_time": "2024-06-17T20:01:45.918157Z",
     "start_time": "2024-06-17T20:01:45.908345Z"
    }
   },
   "cell_type": "code",
   "source": "df_abstract_algebra.head()",
   "id": "1047210074423dde",
   "outputs": [
    {
     "data": {
      "text/plain": [
       "                  What is the value of p in 24 = 2p?           p = 4  \\\n",
       "0  Ms. Perez drove a total of 40 miles in 5 days....               5   \n",
       "1                   Find the quotient of −40 ÷ (−8).        1 over 5   \n",
       "2  A soccer team has $90.00 to buy soccer balls. ...               4   \n",
       "3  You and three friends go to a concert. The tot...  4t = 112; $448   \n",
       "4  Use the expression below to answer the questio...               9   \n",
       "\n",
       "           p = 8                p = 12               p = 24  C  \n",
       "0              7                     8                    9  C  \n",
       "1             −5             −1 over 5                    5  D  \n",
       "2              5                     6                    7  B  \n",
       "3  4t = 112; $28  t over 4 = 112; $448  t over 4 = 112; $28  B  \n",
       "4             11                    26                   32  C  "
      ],
      "text/html": [
       "<div>\n",
       "<style scoped>\n",
       "    .dataframe tbody tr th:only-of-type {\n",
       "        vertical-align: middle;\n",
       "    }\n",
       "\n",
       "    .dataframe tbody tr th {\n",
       "        vertical-align: top;\n",
       "    }\n",
       "\n",
       "    .dataframe thead th {\n",
       "        text-align: right;\n",
       "    }\n",
       "</style>\n",
       "<table border=\"1\" class=\"dataframe\">\n",
       "  <thead>\n",
       "    <tr style=\"text-align: right;\">\n",
       "      <th></th>\n",
       "      <th>What is the value of p in 24 = 2p?</th>\n",
       "      <th>p = 4</th>\n",
       "      <th>p = 8</th>\n",
       "      <th>p = 12</th>\n",
       "      <th>p = 24</th>\n",
       "      <th>C</th>\n",
       "    </tr>\n",
       "  </thead>\n",
       "  <tbody>\n",
       "    <tr>\n",
       "      <th>0</th>\n",
       "      <td>Ms. Perez drove a total of 40 miles in 5 days....</td>\n",
       "      <td>5</td>\n",
       "      <td>7</td>\n",
       "      <td>8</td>\n",
       "      <td>9</td>\n",
       "      <td>C</td>\n",
       "    </tr>\n",
       "    <tr>\n",
       "      <th>1</th>\n",
       "      <td>Find the quotient of −40 ÷ (−8).</td>\n",
       "      <td>1 over 5</td>\n",
       "      <td>−5</td>\n",
       "      <td>−1 over 5</td>\n",
       "      <td>5</td>\n",
       "      <td>D</td>\n",
       "    </tr>\n",
       "    <tr>\n",
       "      <th>2</th>\n",
       "      <td>A soccer team has $90.00 to buy soccer balls. ...</td>\n",
       "      <td>4</td>\n",
       "      <td>5</td>\n",
       "      <td>6</td>\n",
       "      <td>7</td>\n",
       "      <td>B</td>\n",
       "    </tr>\n",
       "    <tr>\n",
       "      <th>3</th>\n",
       "      <td>You and three friends go to a concert. The tot...</td>\n",
       "      <td>4t = 112; $448</td>\n",
       "      <td>4t = 112; $28</td>\n",
       "      <td>t over 4 = 112; $448</td>\n",
       "      <td>t over 4 = 112; $28</td>\n",
       "      <td>B</td>\n",
       "    </tr>\n",
       "    <tr>\n",
       "      <th>4</th>\n",
       "      <td>Use the expression below to answer the questio...</td>\n",
       "      <td>9</td>\n",
       "      <td>11</td>\n",
       "      <td>26</td>\n",
       "      <td>32</td>\n",
       "      <td>C</td>\n",
       "    </tr>\n",
       "  </tbody>\n",
       "</table>\n",
       "</div>"
      ]
     },
     "execution_count": 14,
     "metadata": {},
     "output_type": "execute_result"
    }
   ],
   "execution_count": 14
  },
  {
   "metadata": {
    "ExecuteTime": {
     "end_time": "2024-06-17T20:01:48.848075Z",
     "start_time": "2024-06-17T20:01:48.842953Z"
    }
   },
   "cell_type": "code",
   "source": "df_abstract_algebra.iloc[:,0][2]",
   "id": "11ab2e5f39664d48",
   "outputs": [
    {
     "data": {
      "text/plain": [
       "'A soccer team has $90.00 to buy soccer balls. If one soccer ball costs $15.60, what is the greatest number of soccer balls the team can buy?'"
      ]
     },
     "execution_count": 15,
     "metadata": {},
     "output_type": "execute_result"
    }
   ],
   "execution_count": 15
  },
  {
   "metadata": {
    "ExecuteTime": {
     "end_time": "2024-06-17T20:02:21.543514Z",
     "start_time": "2024-06-17T20:02:21.539361Z"
    }
   },
   "cell_type": "code",
   "source": "len(df.index)",
   "id": "4c4842a69749d49",
   "outputs": [
    {
     "data": {
      "text/plain": [
       "99"
      ]
     },
     "execution_count": 16,
     "metadata": {},
     "output_type": "execute_result"
    }
   ],
   "execution_count": 16
  },
  {
   "metadata": {},
   "cell_type": "code",
   "outputs": [],
   "execution_count": null,
   "source": "",
   "id": "1a290ffc523ebf8f"
  }
 ],
 "metadata": {
  "kernelspec": {
   "display_name": "Python 3",
   "language": "python",
   "name": "python3"
  },
  "language_info": {
   "codemirror_mode": {
    "name": "ipython",
    "version": 2
   },
   "file_extension": ".py",
   "mimetype": "text/x-python",
   "name": "python",
   "nbconvert_exporter": "python",
   "pygments_lexer": "ipython2",
   "version": "2.7.6"
  }
 },
 "nbformat": 4,
 "nbformat_minor": 5
}
